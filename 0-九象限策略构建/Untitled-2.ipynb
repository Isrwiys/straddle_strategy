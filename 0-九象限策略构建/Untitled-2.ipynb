{
 "cells": [
  {
   "cell_type": "code",
   "execution_count": 2,
   "metadata": {},
   "outputs": [],
   "source": [
    "import pandas as pd\n",
    "import numpy as np\n",
    "import matplotlib.pyplot as plt\n",
    "import seaborn as sns\n",
    "import warnings\n",
    "warnings.filterwarnings('ignore')\n",
    "sns.set(color_codes=True)\n",
    "import scipy.stats as stats\n",
    "import pickle\n",
    "import gzip"
   ]
  },
  {
   "cell_type": "code",
   "execution_count": 13,
   "metadata": {},
   "outputs": [],
   "source": [
    "def get_resampled_data(path):\n",
    "    df = pickle.loads(gzip.decompress(open(path, 'rb').read()))\n",
    "    df.set_index('datetime', inplace=True)\n",
    "    daily_data = df.resample('B').agg({'open': 'first', \n",
    "                                    'high': 'max', \n",
    "                                    'low': 'min', \n",
    "                                    'close': 'last', \n",
    "                                    'volume': 'sum', \n",
    "                                    'amount': 'sum'})\n",
    "    daily_data['daily_return_ctc'] = daily_data['close'].pct_change()\n",
    "    daily_data['daily_return_otc'] = (daily_data['close']-daily_data['open'])/daily_data['open']\n",
    "    df_resampled_5min = df.resample('5T').last()\n",
    "    df_resampled_5min['log_return'] = np.log(df_resampled_5min['close'] / df_resampled_5min['close'].shift())\n",
    "    realized_vol = pd.DataFrame(df_resampled_5min.groupby(df_resampled_5min.index.date)['log_return'].transform('std'))\n",
    "    realized_vol.rename(columns={'log_return':'realized_volatility'},inplace=True)\n",
    "    daily_data = daily_data.merge(realized_vol,left_on = daily_data.index, right_on = realized_vol.index,how='left')\n",
    "    daily_data.rename(columns={'key_0':'date'},inplace=True)\n",
    "    return daily_data"
   ]
  },
  {
   "cell_type": "code",
   "execution_count": 14,
   "metadata": {},
   "outputs": [],
   "source": [
    "underlying_code = 'SH510050'\n",
    "path = 'data/'+underlying_code+'_index_hh.pkl.gz'\n",
    "data = get_resampled_data(path)"
   ]
  },
  {
   "cell_type": "code",
   "execution_count": 17,
   "metadata": {},
   "outputs": [
    {
     "data": {
      "text/plain": [
       "Index(['date', 'daily_return_ctc', 'daily_return_otc', 'realized_volatility',\n",
       "       'KMID', 'KLEN', 'KMID2', 'KUP', 'KUP2', 'KLOW',\n",
       "       ...\n",
       "       'IMIN60', 'IMXD60', 'CORR60', 'CORD60', 'CNTP60', 'SUMP60', 'VMA60',\n",
       "       'VSTD60', 'WVMA60', 'VSUMP60'],\n",
       "      dtype='object', length=132)"
      ]
     },
     "execution_count": 17,
     "metadata": {},
     "output_type": "execute_result"
    }
   ],
   "source": [
    "underlying_code = 'SH510050'\n",
    "df = pickle.loads(gzip.decompress(open('data/'+underlying_code+'_factors.pkl.gz', 'rb').read()))\n",
    "df.columns"
   ]
  },
  {
   "cell_type": "code",
   "execution_count": 8,
   "metadata": {},
   "outputs": [
    {
     "data": {
      "text/plain": [
       "(4860, 132)"
      ]
     },
     "execution_count": 8,
     "metadata": {},
     "output_type": "execute_result"
    }
   ],
   "source": [
    "df.shape"
   ]
  },
  {
   "cell_type": "code",
   "execution_count": null,
   "metadata": {},
   "outputs": [],
   "source": []
  }
 ],
 "metadata": {
  "kernelspec": {
   "display_name": "Python 3",
   "language": "python",
   "name": "python3"
  },
  "language_info": {
   "codemirror_mode": {
    "name": "ipython",
    "version": 3
   },
   "file_extension": ".py",
   "mimetype": "text/x-python",
   "name": "python",
   "nbconvert_exporter": "python",
   "pygments_lexer": "ipython3",
   "version": "3.11.0"
  },
  "orig_nbformat": 4,
  "vscode": {
   "interpreter": {
    "hash": "1a1af0ee75eeea9e2e1ee996c87e7a2b11a0bebd85af04bb136d915cefc0abce"
   }
  }
 },
 "nbformat": 4,
 "nbformat_minor": 2
}
